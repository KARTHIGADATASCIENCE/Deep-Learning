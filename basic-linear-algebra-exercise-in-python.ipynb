{
 "cells": [
  {
   "cell_type": "markdown",
   "id": "e839b3d3",
   "metadata": {
    "papermill": {
     "duration": 0.005205,
     "end_time": "2025-06-30T05:02:23.459867",
     "exception": false,
     "start_time": "2025-06-30T05:02:23.454662",
     "status": "completed"
    },
    "tags": []
   },
   "source": [
    "## Ex: 1 - Matrix Multiplication"
   ]
  },
  {
   "cell_type": "code",
   "execution_count": 1,
   "id": "a4773258",
   "metadata": {
    "execution": {
     "iopub.execute_input": "2025-06-30T05:02:23.470097Z",
     "iopub.status.busy": "2025-06-30T05:02:23.469764Z",
     "iopub.status.idle": "2025-06-30T05:02:23.477083Z",
     "shell.execute_reply": "2025-06-30T05:02:23.476267Z"
    },
    "papermill": {
     "duration": 0.014181,
     "end_time": "2025-06-30T05:02:23.478593",
     "exception": false,
     "start_time": "2025-06-30T05:02:23.464412",
     "status": "completed"
    },
    "tags": []
   },
   "outputs": [],
   "source": [
    "#import library\n",
    "import numpy as np"
   ]
  },
  {
   "cell_type": "code",
   "execution_count": 2,
   "id": "fd0f878c",
   "metadata": {
    "execution": {
     "iopub.execute_input": "2025-06-30T05:02:23.488916Z",
     "iopub.status.busy": "2025-06-30T05:02:23.488653Z",
     "iopub.status.idle": "2025-06-30T05:02:23.493056Z",
     "shell.execute_reply": "2025-06-30T05:02:23.492202Z"
    },
    "papermill": {
     "duration": 0.011363,
     "end_time": "2025-06-30T05:02:23.494549",
     "exception": false,
     "start_time": "2025-06-30T05:02:23.483186",
     "status": "completed"
    },
    "tags": []
   },
   "outputs": [],
   "source": [
    "A=np.array([[1,2],[3,5]])"
   ]
  },
  {
   "cell_type": "code",
   "execution_count": 3,
   "id": "11c7c2f8",
   "metadata": {
    "execution": {
     "iopub.execute_input": "2025-06-30T05:02:23.505190Z",
     "iopub.status.busy": "2025-06-30T05:02:23.504866Z",
     "iopub.status.idle": "2025-06-30T05:02:23.509872Z",
     "shell.execute_reply": "2025-06-30T05:02:23.508873Z"
    },
    "papermill": {
     "duration": 0.012016,
     "end_time": "2025-06-30T05:02:23.511352",
     "exception": false,
     "start_time": "2025-06-30T05:02:23.499336",
     "status": "completed"
    },
    "tags": []
   },
   "outputs": [],
   "source": [
    "B=np.array([[5,6],[7,8]])"
   ]
  },
  {
   "cell_type": "code",
   "execution_count": 4,
   "id": "76387234",
   "metadata": {
    "execution": {
     "iopub.execute_input": "2025-06-30T05:02:23.521908Z",
     "iopub.status.busy": "2025-06-30T05:02:23.521309Z",
     "iopub.status.idle": "2025-06-30T05:02:23.525443Z",
     "shell.execute_reply": "2025-06-30T05:02:23.524600Z"
    },
    "papermill": {
     "duration": 0.010918,
     "end_time": "2025-06-30T05:02:23.526898",
     "exception": false,
     "start_time": "2025-06-30T05:02:23.515980",
     "status": "completed"
    },
    "tags": []
   },
   "outputs": [],
   "source": [
    "C=np.dot(A,B)"
   ]
  },
  {
   "cell_type": "code",
   "execution_count": 5,
   "id": "f799d586",
   "metadata": {
    "execution": {
     "iopub.execute_input": "2025-06-30T05:02:23.536940Z",
     "iopub.status.busy": "2025-06-30T05:02:23.536645Z",
     "iopub.status.idle": "2025-06-30T05:02:23.542524Z",
     "shell.execute_reply": "2025-06-30T05:02:23.541527Z"
    },
    "papermill": {
     "duration": 0.012534,
     "end_time": "2025-06-30T05:02:23.543890",
     "exception": false,
     "start_time": "2025-06-30T05:02:23.531356",
     "status": "completed"
    },
    "tags": []
   },
   "outputs": [
    {
     "name": "stdout",
     "output_type": "stream",
     "text": [
      "Matrix A\n",
      "[[1 2]\n",
      " [3 5]]\n"
     ]
    }
   ],
   "source": [
    "print(\"Matrix A\")\n",
    "print(A)"
   ]
  },
  {
   "cell_type": "code",
   "execution_count": 6,
   "id": "9840bb58",
   "metadata": {
    "execution": {
     "iopub.execute_input": "2025-06-30T05:02:23.554376Z",
     "iopub.status.busy": "2025-06-30T05:02:23.554079Z",
     "iopub.status.idle": "2025-06-30T05:02:23.558907Z",
     "shell.execute_reply": "2025-06-30T05:02:23.557932Z"
    },
    "papermill": {
     "duration": 0.011868,
     "end_time": "2025-06-30T05:02:23.560376",
     "exception": false,
     "start_time": "2025-06-30T05:02:23.548508",
     "status": "completed"
    },
    "tags": []
   },
   "outputs": [
    {
     "name": "stdout",
     "output_type": "stream",
     "text": [
      "Matrix B\n",
      "[[5 6]\n",
      " [7 8]]\n"
     ]
    }
   ],
   "source": [
    "print(\"Matrix B\")\n",
    "print(B)"
   ]
  },
  {
   "cell_type": "code",
   "execution_count": 7,
   "id": "ebead486",
   "metadata": {
    "execution": {
     "iopub.execute_input": "2025-06-30T05:02:23.570917Z",
     "iopub.status.busy": "2025-06-30T05:02:23.570634Z",
     "iopub.status.idle": "2025-06-30T05:02:23.575617Z",
     "shell.execute_reply": "2025-06-30T05:02:23.574672Z"
    },
    "papermill": {
     "duration": 0.011735,
     "end_time": "2025-06-30T05:02:23.576868",
     "exception": false,
     "start_time": "2025-06-30T05:02:23.565133",
     "status": "completed"
    },
    "tags": []
   },
   "outputs": [
    {
     "name": "stdout",
     "output_type": "stream",
     "text": [
      "Matrix C=A*B\n",
      "[[19 22]\n",
      " [50 58]]\n"
     ]
    }
   ],
   "source": [
    "print(\"Matrix C=A*B\")\n",
    "print(C)"
   ]
  },
  {
   "cell_type": "code",
   "execution_count": 8,
   "id": "4158a7b5",
   "metadata": {
    "execution": {
     "iopub.execute_input": "2025-06-30T05:02:23.587245Z",
     "iopub.status.busy": "2025-06-30T05:02:23.586932Z",
     "iopub.status.idle": "2025-06-30T05:02:23.605395Z",
     "shell.execute_reply": "2025-06-30T05:02:23.604457Z"
    },
    "papermill": {
     "duration": 0.0252,
     "end_time": "2025-06-30T05:02:23.606843",
     "exception": false,
     "start_time": "2025-06-30T05:02:23.581643",
     "status": "completed"
    },
    "tags": []
   },
   "outputs": [
    {
     "name": "stdout",
     "output_type": "stream",
     "text": [
      "[[1 2 3]\n",
      " [2 0 1]]\n",
      "[[1. 1. 1.]\n",
      " [1. 1. 1.]\n",
      " [1. 1. 1.]]\n",
      "[[6. 6. 6.]\n",
      " [3. 3. 3.]]\n"
     ]
    }
   ],
   "source": [
    "# sample 2 \n",
    "\n",
    "a=np.array([[1,2,3],[2,0,1]])\n",
    "b=np.ones([3,3])\n",
    "c=np.dot(a,b)\n",
    "print(a)\n",
    "print(b)\n",
    "print(c)"
   ]
  },
  {
   "cell_type": "code",
   "execution_count": 9,
   "id": "8b0a00bc",
   "metadata": {
    "execution": {
     "iopub.execute_input": "2025-06-30T05:02:23.617909Z",
     "iopub.status.busy": "2025-06-30T05:02:23.617186Z",
     "iopub.status.idle": "2025-06-30T05:02:23.692998Z",
     "shell.execute_reply": "2025-06-30T05:02:23.691853Z"
    },
    "papermill": {
     "duration": 0.082829,
     "end_time": "2025-06-30T05:02:23.694449",
     "exception": true,
     "start_time": "2025-06-30T05:02:23.611620",
     "status": "failed"
    },
    "tags": []
   },
   "outputs": [
    {
     "name": "stdout",
     "output_type": "stream",
     "text": [
      "[[2 3]\n",
      " [0 2]\n",
      " [1 2]]\n",
      "[[1. 1. 1.]\n",
      " [1. 1. 1.]\n",
      " [1. 1. 1.]]\n"
     ]
    },
    {
     "ename": "ValueError",
     "evalue": "shapes (3,2) and (3,3) not aligned: 2 (dim 1) != 3 (dim 0)",
     "output_type": "error",
     "traceback": [
      "\u001b[0;31m---------------------------------------------------------------------------\u001b[0m",
      "\u001b[0;31mValueError\u001b[0m                                Traceback (most recent call last)",
      "\u001b[0;32m/tmp/ipykernel_13/4041532990.py\u001b[0m in \u001b[0;36m<cell line: 0>\u001b[0;34m()\u001b[0m\n\u001b[1;32m      4\u001b[0m \u001b[0mprint\u001b[0m\u001b[0;34m(\u001b[0m\u001b[0ma\u001b[0m\u001b[0;34m)\u001b[0m\u001b[0;34m\u001b[0m\u001b[0;34m\u001b[0m\u001b[0m\n\u001b[1;32m      5\u001b[0m \u001b[0mprint\u001b[0m\u001b[0;34m(\u001b[0m\u001b[0mb\u001b[0m\u001b[0;34m)\u001b[0m\u001b[0;34m\u001b[0m\u001b[0;34m\u001b[0m\u001b[0m\n\u001b[0;32m----> 6\u001b[0;31m \u001b[0mc\u001b[0m\u001b[0;34m=\u001b[0m\u001b[0mnp\u001b[0m\u001b[0;34m.\u001b[0m\u001b[0mdot\u001b[0m\u001b[0;34m(\u001b[0m\u001b[0ma\u001b[0m\u001b[0;34m,\u001b[0m\u001b[0mb\u001b[0m\u001b[0;34m)\u001b[0m\u001b[0;34m\u001b[0m\u001b[0;34m\u001b[0m\u001b[0m\n\u001b[0m\u001b[1;32m      7\u001b[0m \u001b[0mprint\u001b[0m\u001b[0;34m(\u001b[0m\u001b[0mc\u001b[0m\u001b[0;34m)\u001b[0m\u001b[0;34m\u001b[0m\u001b[0;34m\u001b[0m\u001b[0m\n",
      "\u001b[0;31mValueError\u001b[0m: shapes (3,2) and (3,3) not aligned: 2 (dim 1) != 3 (dim 0)"
     ]
    }
   ],
   "source": [
    "#sample 3\n",
    "a=np.array([[2,3],[0,2],[1,2]])\n",
    "b=np.ones([3,3])\n",
    "print(a)\n",
    "print(b)\n",
    "c=np.dot(a,b)\n",
    "print(c)"
   ]
  },
  {
   "cell_type": "code",
   "execution_count": null,
   "id": "66ce042c",
   "metadata": {
    "execution": {
     "iopub.execute_input": "2025-06-30T04:46:02.760333Z",
     "iopub.status.busy": "2025-06-30T04:46:02.759993Z",
     "iopub.status.idle": "2025-06-30T04:46:02.767124Z",
     "shell.execute_reply": "2025-06-30T04:46:02.766172Z",
     "shell.execute_reply.started": "2025-06-30T04:46:02.760309Z"
    },
    "papermill": {
     "duration": null,
     "end_time": null,
     "exception": null,
     "start_time": null,
     "status": "pending"
    },
    "tags": []
   },
   "outputs": [],
   "source": [
    "a=np.array([[1,2,1,1],[2,3,4,5],[7,1,2,3],[1,0,2,0]])\n",
    "b=np.ones([4,4])\n",
    "c=a.dot(b)\n",
    "print(c)"
   ]
  },
  {
   "cell_type": "code",
   "execution_count": null,
   "id": "83d1c3a9",
   "metadata": {
    "execution": {
     "iopub.execute_input": "2025-06-30T04:59:07.633636Z",
     "iopub.status.busy": "2025-06-30T04:59:07.633348Z",
     "iopub.status.idle": "2025-06-30T04:59:07.638887Z",
     "shell.execute_reply": "2025-06-30T04:59:07.637610Z",
     "shell.execute_reply.started": "2025-06-30T04:59:07.633618Z"
    },
    "papermill": {
     "duration": null,
     "end_time": null,
     "exception": null,
     "start_time": null,
     "status": "pending"
    },
    "tags": []
   },
   "outputs": [],
   "source": [
    "a=np.array([[2,1],[1,0]])\n",
    "b=3\n",
    "c=a*b\n",
    "print(c)"
   ]
  },
  {
   "cell_type": "markdown",
   "id": "9abcadd0",
   "metadata": {
    "papermill": {
     "duration": null,
     "end_time": null,
     "exception": null,
     "start_time": null,
     "status": "pending"
    },
    "tags": []
   },
   "source": [
    "## EX 2 : Eigen Decomposition"
   ]
  },
  {
   "cell_type": "code",
   "execution_count": null,
   "id": "aa371ce3",
   "metadata": {
    "execution": {
     "iopub.execute_input": "2025-06-30T04:08:22.608583Z",
     "iopub.status.busy": "2025-06-30T04:08:22.608283Z",
     "iopub.status.idle": "2025-06-30T04:08:22.613300Z",
     "shell.execute_reply": "2025-06-30T04:08:22.612209Z",
     "shell.execute_reply.started": "2025-06-30T04:08:22.608561Z"
    },
    "papermill": {
     "duration": null,
     "end_time": null,
     "exception": null,
     "start_time": null,
     "status": "pending"
    },
    "tags": []
   },
   "outputs": [],
   "source": [
    "import numpy as np"
   ]
  },
  {
   "cell_type": "code",
   "execution_count": null,
   "id": "5a8cf604",
   "metadata": {
    "execution": {
     "iopub.execute_input": "2025-06-30T04:08:40.956389Z",
     "iopub.status.busy": "2025-06-30T04:08:40.955617Z",
     "iopub.status.idle": "2025-06-30T04:08:40.961549Z",
     "shell.execute_reply": "2025-06-30T04:08:40.960130Z",
     "shell.execute_reply.started": "2025-06-30T04:08:40.956356Z"
    },
    "papermill": {
     "duration": null,
     "end_time": null,
     "exception": null,
     "start_time": null,
     "status": "pending"
    },
    "tags": []
   },
   "outputs": [],
   "source": [
    "A=np.array([[4,2],[1,3]])"
   ]
  },
  {
   "cell_type": "code",
   "execution_count": null,
   "id": "2b523352",
   "metadata": {
    "execution": {
     "iopub.execute_input": "2025-06-30T04:08:58.917237Z",
     "iopub.status.busy": "2025-06-30T04:08:58.916906Z",
     "iopub.status.idle": "2025-06-30T04:08:58.940084Z",
     "shell.execute_reply": "2025-06-30T04:08:58.938924Z",
     "shell.execute_reply.started": "2025-06-30T04:08:58.917217Z"
    },
    "papermill": {
     "duration": null,
     "end_time": null,
     "exception": null,
     "start_time": null,
     "status": "pending"
    },
    "tags": []
   },
   "outputs": [],
   "source": [
    "ev, evector= np.linalg.eig(A)"
   ]
  },
  {
   "cell_type": "code",
   "execution_count": null,
   "id": "459e5b35",
   "metadata": {
    "execution": {
     "iopub.execute_input": "2025-06-30T04:09:16.356033Z",
     "iopub.status.busy": "2025-06-30T04:09:16.355709Z",
     "iopub.status.idle": "2025-06-30T04:09:16.361407Z",
     "shell.execute_reply": "2025-06-30T04:09:16.360457Z",
     "shell.execute_reply.started": "2025-06-30T04:09:16.356010Z"
    },
    "papermill": {
     "duration": null,
     "end_time": null,
     "exception": null,
     "start_time": null,
     "status": "pending"
    },
    "tags": []
   },
   "outputs": [],
   "source": [
    "print(\"matrix A\")\n",
    "print(A)"
   ]
  },
  {
   "cell_type": "code",
   "execution_count": null,
   "id": "2985f7c0",
   "metadata": {
    "execution": {
     "iopub.execute_input": "2025-06-30T04:09:33.659714Z",
     "iopub.status.busy": "2025-06-30T04:09:33.659404Z",
     "iopub.status.idle": "2025-06-30T04:09:33.665939Z",
     "shell.execute_reply": "2025-06-30T04:09:33.664891Z",
     "shell.execute_reply.started": "2025-06-30T04:09:33.659692Z"
    },
    "papermill": {
     "duration": null,
     "end_time": null,
     "exception": null,
     "start_time": null,
     "status": "pending"
    },
    "tags": []
   },
   "outputs": [],
   "source": [
    "print(\"Eigen values\")\n",
    "print(ev)"
   ]
  },
  {
   "cell_type": "code",
   "execution_count": null,
   "id": "c3f60649",
   "metadata": {
    "execution": {
     "iopub.execute_input": "2025-06-30T04:10:00.253412Z",
     "iopub.status.busy": "2025-06-30T04:10:00.253089Z",
     "iopub.status.idle": "2025-06-30T04:10:00.258746Z",
     "shell.execute_reply": "2025-06-30T04:10:00.257795Z",
     "shell.execute_reply.started": "2025-06-30T04:10:00.253392Z"
    },
    "papermill": {
     "duration": null,
     "end_time": null,
     "exception": null,
     "start_time": null,
     "status": "pending"
    },
    "tags": []
   },
   "outputs": [],
   "source": [
    "print(\"Eigen vectors\")\n",
    "print(evector)"
   ]
  },
  {
   "cell_type": "markdown",
   "id": "7d4683d5",
   "metadata": {
    "papermill": {
     "duration": null,
     "end_time": null,
     "exception": null,
     "start_time": null,
     "status": "pending"
    },
    "tags": []
   },
   "source": [
    "## Ex 3 Singular Value Decomposition"
   ]
  },
  {
   "cell_type": "code",
   "execution_count": null,
   "id": "5ae943b3",
   "metadata": {
    "execution": {
     "iopub.execute_input": "2025-06-30T04:25:39.403713Z",
     "iopub.status.busy": "2025-06-30T04:25:39.403255Z",
     "iopub.status.idle": "2025-06-30T04:25:39.410604Z",
     "shell.execute_reply": "2025-06-30T04:25:39.409601Z",
     "shell.execute_reply.started": "2025-06-30T04:25:39.403685Z"
    },
    "papermill": {
     "duration": null,
     "end_time": null,
     "exception": null,
     "start_time": null,
     "status": "pending"
    },
    "tags": []
   },
   "outputs": [],
   "source": [
    "import numpy as np"
   ]
  },
  {
   "cell_type": "code",
   "execution_count": null,
   "id": "b91c9185",
   "metadata": {
    "execution": {
     "iopub.execute_input": "2025-06-30T04:26:07.361968Z",
     "iopub.status.busy": "2025-06-30T04:26:07.361652Z",
     "iopub.status.idle": "2025-06-30T04:26:07.366586Z",
     "shell.execute_reply": "2025-06-30T04:26:07.365654Z",
     "shell.execute_reply.started": "2025-06-30T04:26:07.361947Z"
    },
    "papermill": {
     "duration": null,
     "end_time": null,
     "exception": null,
     "start_time": null,
     "status": "pending"
    },
    "tags": []
   },
   "outputs": [],
   "source": [
    "A=np.array([[3,2,2],[2,3,-2]])"
   ]
  },
  {
   "cell_type": "code",
   "execution_count": null,
   "id": "252e9d16",
   "metadata": {
    "execution": {
     "iopub.execute_input": "2025-06-30T04:26:29.032699Z",
     "iopub.status.busy": "2025-06-30T04:26:29.032441Z",
     "iopub.status.idle": "2025-06-30T04:26:29.063372Z",
     "shell.execute_reply": "2025-06-30T04:26:29.062217Z",
     "shell.execute_reply.started": "2025-06-30T04:26:29.032682Z"
    },
    "papermill": {
     "duration": null,
     "end_time": null,
     "exception": null,
     "start_time": null,
     "status": "pending"
    },
    "tags": []
   },
   "outputs": [],
   "source": [
    "u,s,v = np.linalg.svd(A)"
   ]
  },
  {
   "cell_type": "code",
   "execution_count": null,
   "id": "41dded05",
   "metadata": {
    "execution": {
     "iopub.execute_input": "2025-06-30T04:26:45.000671Z",
     "iopub.status.busy": "2025-06-30T04:26:45.000366Z",
     "iopub.status.idle": "2025-06-30T04:26:45.009025Z",
     "shell.execute_reply": "2025-06-30T04:26:45.007150Z",
     "shell.execute_reply.started": "2025-06-30T04:26:45.000648Z"
    },
    "papermill": {
     "duration": null,
     "end_time": null,
     "exception": null,
     "start_time": null,
     "status": "pending"
    },
    "tags": []
   },
   "outputs": [],
   "source": [
    "print(\"matrix A\")\n",
    "print(A)"
   ]
  },
  {
   "cell_type": "code",
   "execution_count": null,
   "id": "39dc123e",
   "metadata": {
    "execution": {
     "iopub.execute_input": "2025-06-30T04:27:00.193504Z",
     "iopub.status.busy": "2025-06-30T04:27:00.193191Z",
     "iopub.status.idle": "2025-06-30T04:27:00.198518Z",
     "shell.execute_reply": "2025-06-30T04:27:00.197686Z",
     "shell.execute_reply.started": "2025-06-30T04:27:00.193485Z"
    },
    "papermill": {
     "duration": null,
     "end_time": null,
     "exception": null,
     "start_time": null,
     "status": "pending"
    },
    "tags": []
   },
   "outputs": [],
   "source": [
    "print(\"U matrix\")\n",
    "print(u)"
   ]
  },
  {
   "cell_type": "code",
   "execution_count": null,
   "id": "625ed0f3",
   "metadata": {
    "execution": {
     "iopub.execute_input": "2025-06-30T04:27:27.272712Z",
     "iopub.status.busy": "2025-06-30T04:27:27.272411Z",
     "iopub.status.idle": "2025-06-30T04:27:27.277545Z",
     "shell.execute_reply": "2025-06-30T04:27:27.276806Z",
     "shell.execute_reply.started": "2025-06-30T04:27:27.272693Z"
    },
    "papermill": {
     "duration": null,
     "end_time": null,
     "exception": null,
     "start_time": null,
     "status": "pending"
    },
    "tags": []
   },
   "outputs": [],
   "source": [
    "print(\"singular values\")\n",
    "print(s)"
   ]
  },
  {
   "cell_type": "code",
   "execution_count": null,
   "id": "1908dffb",
   "metadata": {
    "execution": {
     "iopub.execute_input": "2025-06-30T04:27:41.016825Z",
     "iopub.status.busy": "2025-06-30T04:27:41.016523Z",
     "iopub.status.idle": "2025-06-30T04:27:41.021942Z",
     "shell.execute_reply": "2025-06-30T04:27:41.020881Z",
     "shell.execute_reply.started": "2025-06-30T04:27:41.016805Z"
    },
    "papermill": {
     "duration": null,
     "end_time": null,
     "exception": null,
     "start_time": null,
     "status": "pending"
    },
    "tags": []
   },
   "outputs": [],
   "source": [
    "print(\"V matrix\")\n",
    "print(v)"
   ]
  },
  {
   "cell_type": "code",
   "execution_count": null,
   "id": "b2e4c189",
   "metadata": {
    "papermill": {
     "duration": null,
     "end_time": null,
     "exception": null,
     "start_time": null,
     "status": "pending"
    },
    "tags": []
   },
   "outputs": [],
   "source": []
  }
 ],
 "metadata": {
  "kaggle": {
   "accelerator": "none",
   "dataSources": [],
   "dockerImageVersionId": 31040,
   "isGpuEnabled": false,
   "isInternetEnabled": true,
   "language": "python",
   "sourceType": "notebook"
  },
  "kernelspec": {
   "display_name": "Python 3",
   "language": "python",
   "name": "python3"
  },
  "language_info": {
   "codemirror_mode": {
    "name": "ipython",
    "version": 3
   },
   "file_extension": ".py",
   "mimetype": "text/x-python",
   "name": "python",
   "nbconvert_exporter": "python",
   "pygments_lexer": "ipython3",
   "version": "3.11.11"
  },
  "papermill": {
   "default_parameters": {},
   "duration": 5.364207,
   "end_time": "2025-06-30T05:02:24.118448",
   "environment_variables": {},
   "exception": true,
   "input_path": "__notebook__.ipynb",
   "output_path": "__notebook__.ipynb",
   "parameters": {},
   "start_time": "2025-06-30T05:02:18.754241",
   "version": "2.6.0"
  }
 },
 "nbformat": 4,
 "nbformat_minor": 5
}
