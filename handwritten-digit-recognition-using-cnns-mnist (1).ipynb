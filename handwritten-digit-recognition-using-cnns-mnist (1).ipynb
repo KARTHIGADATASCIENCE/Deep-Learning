{
 "cells": [
  {
   "cell_type": "code",
   "execution_count": 1,
   "id": "5f40fab1",
   "metadata": {
    "_cell_guid": "b1076dfc-b9ad-4769-8c92-a6c4dae69d19",
    "_uuid": "8f2839f25d086af736a60e9eeb907d3b93b6e0e5",
    "execution": {
     "iopub.execute_input": "2025-07-29T04:10:04.315679Z",
     "iopub.status.busy": "2025-07-29T04:10:04.315300Z",
     "iopub.status.idle": "2025-07-29T04:10:29.331506Z",
     "shell.execute_reply": "2025-07-29T04:10:29.330663Z"
    },
    "papermill": {
     "duration": 25.024961,
     "end_time": "2025-07-29T04:10:29.333267",
     "exception": false,
     "start_time": "2025-07-29T04:10:04.308306",
     "status": "completed"
    },
    "tags": []
   },
   "outputs": [
    {
     "name": "stderr",
     "output_type": "stream",
     "text": [
      "2025-07-29 04:10:07.279255: E external/local_xla/xla/stream_executor/cuda/cuda_fft.cc:477] Unable to register cuFFT factory: Attempting to register factory for plugin cuFFT when one has already been registered\n",
      "WARNING: All log messages before absl::InitializeLog() is called are written to STDERR\n",
      "E0000 00:00:1753762207.712768      13 cuda_dnn.cc:8310] Unable to register cuDNN factory: Attempting to register factory for plugin cuDNN when one has already been registered\n",
      "E0000 00:00:1753762207.834855      13 cuda_blas.cc:1418] Unable to register cuBLAS factory: Attempting to register factory for plugin cuBLAS when one has already been registered\n"
     ]
    }
   ],
   "source": [
    "import tensorflow as tf"
   ]
  },
  {
   "cell_type": "code",
   "execution_count": 2,
   "id": "45482a81",
   "metadata": {
    "execution": {
     "iopub.execute_input": "2025-07-29T04:10:29.342124Z",
     "iopub.status.busy": "2025-07-29T04:10:29.341558Z",
     "iopub.status.idle": "2025-07-29T04:10:29.346179Z",
     "shell.execute_reply": "2025-07-29T04:10:29.345338Z"
    },
    "papermill": {
     "duration": 0.010613,
     "end_time": "2025-07-29T04:10:29.347742",
     "exception": false,
     "start_time": "2025-07-29T04:10:29.337129",
     "status": "completed"
    },
    "tags": []
   },
   "outputs": [],
   "source": [
    "from tensorflow import keras"
   ]
  },
  {
   "cell_type": "code",
   "execution_count": 3,
   "id": "9dcf0a85",
   "metadata": {
    "execution": {
     "iopub.execute_input": "2025-07-29T04:10:29.355913Z",
     "iopub.status.busy": "2025-07-29T04:10:29.355604Z",
     "iopub.status.idle": "2025-07-29T04:10:29.442808Z",
     "shell.execute_reply": "2025-07-29T04:10:29.441848Z"
    },
    "papermill": {
     "duration": 0.093247,
     "end_time": "2025-07-29T04:10:29.444499",
     "exception": false,
     "start_time": "2025-07-29T04:10:29.351252",
     "status": "completed"
    },
    "tags": []
   },
   "outputs": [],
   "source": [
    "from tensorflow.keras import layers"
   ]
  },
  {
   "cell_type": "code",
   "execution_count": 4,
   "id": "c08814d6",
   "metadata": {
    "execution": {
     "iopub.execute_input": "2025-07-29T04:10:29.452458Z",
     "iopub.status.busy": "2025-07-29T04:10:29.452122Z",
     "iopub.status.idle": "2025-07-29T04:10:29.456897Z",
     "shell.execute_reply": "2025-07-29T04:10:29.455815Z"
    },
    "papermill": {
     "duration": 0.010401,
     "end_time": "2025-07-29T04:10:29.458347",
     "exception": false,
     "start_time": "2025-07-29T04:10:29.447946",
     "status": "completed"
    },
    "tags": []
   },
   "outputs": [],
   "source": [
    "import matplotlib.pyplot as plt"
   ]
  },
  {
   "cell_type": "code",
   "execution_count": 5,
   "id": "8f9e3c85",
   "metadata": {
    "execution": {
     "iopub.execute_input": "2025-07-29T04:10:29.466832Z",
     "iopub.status.busy": "2025-07-29T04:10:29.466215Z",
     "iopub.status.idle": "2025-07-29T04:10:29.470257Z",
     "shell.execute_reply": "2025-07-29T04:10:29.469514Z"
    },
    "papermill": {
     "duration": 0.009842,
     "end_time": "2025-07-29T04:10:29.471586",
     "exception": false,
     "start_time": "2025-07-29T04:10:29.461744",
     "status": "completed"
    },
    "tags": []
   },
   "outputs": [],
   "source": [
    "import numpy as np"
   ]
  },
  {
   "cell_type": "code",
   "execution_count": 6,
   "id": "3b5eb959",
   "metadata": {
    "execution": {
     "iopub.execute_input": "2025-07-29T04:10:29.479962Z",
     "iopub.status.busy": "2025-07-29T04:10:29.479186Z",
     "iopub.status.idle": "2025-07-29T04:10:29.976864Z",
     "shell.execute_reply": "2025-07-29T04:10:29.975828Z"
    },
    "papermill": {
     "duration": 0.503646,
     "end_time": "2025-07-29T04:10:29.978669",
     "exception": false,
     "start_time": "2025-07-29T04:10:29.475023",
     "status": "completed"
    },
    "tags": []
   },
   "outputs": [
    {
     "name": "stdout",
     "output_type": "stream",
     "text": [
      "Downloading data from https://storage.googleapis.com/tensorflow/tf-keras-datasets/mnist.npz\n",
      "\u001b[1m11490434/11490434\u001b[0m \u001b[32m━━━━━━━━━━━━━━━━━━━━\u001b[0m\u001b[37m\u001b[0m \u001b[1m0s\u001b[0m 0us/step\n"
     ]
    }
   ],
   "source": [
    "(x_train,y_train),(x_test,y_test)=keras.datasets.mnist.load_data()"
   ]
  },
  {
   "cell_type": "code",
   "execution_count": 7,
   "id": "48a5e674",
   "metadata": {
    "execution": {
     "iopub.execute_input": "2025-07-29T04:10:29.987501Z",
     "iopub.status.busy": "2025-07-29T04:10:29.986903Z",
     "iopub.status.idle": "2025-07-29T04:10:30.158097Z",
     "shell.execute_reply": "2025-07-29T04:10:30.156881Z"
    },
    "papermill": {
     "duration": 0.177757,
     "end_time": "2025-07-29T04:10:30.160222",
     "exception": false,
     "start_time": "2025-07-29T04:10:29.982465",
     "status": "completed"
    },
    "tags": []
   },
   "outputs": [],
   "source": [
    "x_train = x_train.astype(\"float32\") / 255.0\n",
    "x_test = x_test.astype(\"float32\") / 255.0"
   ]
  },
  {
   "cell_type": "code",
   "execution_count": 8,
   "id": "4bb4b9b1",
   "metadata": {
    "execution": {
     "iopub.execute_input": "2025-07-29T04:10:30.168854Z",
     "iopub.status.busy": "2025-07-29T04:10:30.168510Z",
     "iopub.status.idle": "2025-07-29T04:10:30.173228Z",
     "shell.execute_reply": "2025-07-29T04:10:30.172110Z"
    },
    "papermill": {
     "duration": 0.01079,
     "end_time": "2025-07-29T04:10:30.174750",
     "exception": false,
     "start_time": "2025-07-29T04:10:30.163960",
     "status": "completed"
    },
    "tags": []
   },
   "outputs": [],
   "source": [
    "x_train = np.expand_dims(x_train, -1)\n",
    "x_test = np.expand_dims(x_test, -1)"
   ]
  },
  {
   "cell_type": "code",
   "execution_count": 9,
   "id": "0bd8d5bc",
   "metadata": {
    "execution": {
     "iopub.execute_input": "2025-07-29T04:10:30.183659Z",
     "iopub.status.busy": "2025-07-29T04:10:30.182995Z",
     "iopub.status.idle": "2025-07-29T04:10:30.192870Z",
     "shell.execute_reply": "2025-07-29T04:10:30.191825Z"
    },
    "papermill": {
     "duration": 0.016171,
     "end_time": "2025-07-29T04:10:30.194619",
     "exception": false,
     "start_time": "2025-07-29T04:10:30.178448",
     "status": "completed"
    },
    "tags": []
   },
   "outputs": [],
   "source": [
    "y_train = keras.utils.to_categorical(y_train, 10)\n",
    "y_test = keras.utils.to_categorical(y_test, 10)"
   ]
  },
  {
   "cell_type": "code",
   "execution_count": 10,
   "id": "4a2cf36b",
   "metadata": {
    "execution": {
     "iopub.execute_input": "2025-07-29T04:10:30.204528Z",
     "iopub.status.busy": "2025-07-29T04:10:30.204186Z",
     "iopub.status.idle": "2025-07-29T04:10:30.324638Z",
     "shell.execute_reply": "2025-07-29T04:10:30.323412Z"
    },
    "papermill": {
     "duration": 0.127848,
     "end_time": "2025-07-29T04:10:30.326170",
     "exception": false,
     "start_time": "2025-07-29T04:10:30.198322",
     "status": "completed"
    },
    "tags": []
   },
   "outputs": [
    {
     "name": "stderr",
     "output_type": "stream",
     "text": [
      "2025-07-29 04:10:30.215522: E external/local_xla/xla/stream_executor/cuda/cuda_driver.cc:152] failed call to cuInit: INTERNAL: CUDA error: Failed call to cuInit: UNKNOWN ERROR (303)\n"
     ]
    }
   ],
   "source": [
    "model = keras.Sequential(\n",
    "    [\n",
    "        keras.Input(shape=(28, 28, 1)),\n",
    "        layers.Conv2D(32, kernel_size=(3, 3), activation=\"relu\"),\n",
    "        layers.MaxPooling2D(pool_size=(2, 2)),\n",
    "        layers.Conv2D(64, kernel_size=(3, 3), activation=\"relu\"),\n",
    "        layers.MaxPooling2D(pool_size=(2, 2)),\n",
    "        layers.Flatten(),\n",
    "        layers.Dropout(0.5),\n",
    "        layers.Dense(10, activation=\"softmax\"),\n",
    "    ]\n",
    ")"
   ]
  },
  {
   "cell_type": "code",
   "execution_count": 11,
   "id": "9b00cdd1",
   "metadata": {
    "execution": {
     "iopub.execute_input": "2025-07-29T04:10:30.334944Z",
     "iopub.status.busy": "2025-07-29T04:10:30.334622Z",
     "iopub.status.idle": "2025-07-29T04:10:30.349112Z",
     "shell.execute_reply": "2025-07-29T04:10:30.348226Z"
    },
    "papermill": {
     "duration": 0.020754,
     "end_time": "2025-07-29T04:10:30.350692",
     "exception": false,
     "start_time": "2025-07-29T04:10:30.329938",
     "status": "completed"
    },
    "tags": []
   },
   "outputs": [],
   "source": [
    "model.compile(loss=\"categorical_crossentropy\", optimizer=\"adam\", metrics=[\"accuracy\"])"
   ]
  },
  {
   "cell_type": "code",
   "execution_count": 12,
   "id": "d6c4db39",
   "metadata": {
    "execution": {
     "iopub.execute_input": "2025-07-29T04:10:30.359266Z",
     "iopub.status.busy": "2025-07-29T04:10:30.358957Z",
     "iopub.status.idle": "2025-07-29T04:12:16.987917Z",
     "shell.execute_reply": "2025-07-29T04:12:16.987116Z"
    },
    "papermill": {
     "duration": 106.635223,
     "end_time": "2025-07-29T04:12:16.989601",
     "exception": false,
     "start_time": "2025-07-29T04:10:30.354378",
     "status": "completed"
    },
    "tags": []
   },
   "outputs": [
    {
     "name": "stdout",
     "output_type": "stream",
     "text": [
      "Epoch 1/5\n",
      "\u001b[1m422/422\u001b[0m \u001b[32m━━━━━━━━━━━━━━━━━━━━\u001b[0m\u001b[37m\u001b[0m \u001b[1m23s\u001b[0m 51ms/step - accuracy: 0.7737 - loss: 0.7290 - val_accuracy: 0.9788 - val_loss: 0.0833\n",
      "Epoch 2/5\n",
      "\u001b[1m422/422\u001b[0m \u001b[32m━━━━━━━━━━━━━━━━━━━━\u001b[0m\u001b[37m\u001b[0m \u001b[1m21s\u001b[0m 49ms/step - accuracy: 0.9624 - loss: 0.1236 - val_accuracy: 0.9843 - val_loss: 0.0562\n",
      "Epoch 3/5\n",
      "\u001b[1m422/422\u001b[0m \u001b[32m━━━━━━━━━━━━━━━━━━━━\u001b[0m\u001b[37m\u001b[0m \u001b[1m21s\u001b[0m 51ms/step - accuracy: 0.9728 - loss: 0.0869 - val_accuracy: 0.9875 - val_loss: 0.0476\n",
      "Epoch 4/5\n",
      "\u001b[1m422/422\u001b[0m \u001b[32m━━━━━━━━━━━━━━━━━━━━\u001b[0m\u001b[37m\u001b[0m \u001b[1m20s\u001b[0m 48ms/step - accuracy: 0.9781 - loss: 0.0701 - val_accuracy: 0.9883 - val_loss: 0.0425\n",
      "Epoch 5/5\n",
      "\u001b[1m422/422\u001b[0m \u001b[32m━━━━━━━━━━━━━━━━━━━━\u001b[0m\u001b[37m\u001b[0m \u001b[1m21s\u001b[0m 49ms/step - accuracy: 0.9803 - loss: 0.0615 - val_accuracy: 0.9895 - val_loss: 0.0380\n"
     ]
    }
   ],
   "source": [
    "history = model.fit(x_train, y_train, batch_size=128, epochs=5, validation_split=0.1)\n"
   ]
  },
  {
   "cell_type": "code",
   "execution_count": 13,
   "id": "adbe3d61",
   "metadata": {
    "execution": {
     "iopub.execute_input": "2025-07-29T04:12:17.195252Z",
     "iopub.status.busy": "2025-07-29T04:12:17.194898Z",
     "iopub.status.idle": "2025-07-29T04:12:18.939499Z",
     "shell.execute_reply": "2025-07-29T04:12:18.938379Z"
    },
    "papermill": {
     "duration": 1.887305,
     "end_time": "2025-07-29T04:12:18.941103",
     "exception": false,
     "start_time": "2025-07-29T04:12:17.053798",
     "status": "completed"
    },
    "tags": []
   },
   "outputs": [
    {
     "name": "stdout",
     "output_type": "stream",
     "text": [
      "Test loss: 0.03591408208012581\n",
      "Test accuracy: 0.987500011920929\n"
     ]
    }
   ],
   "source": [
    "score = model.evaluate(x_test, y_test, verbose=0)\n",
    "print(\"Test loss:\", score[0])\n",
    "print(\"Test accuracy:\", score[1])"
   ]
  },
  {
   "cell_type": "code",
   "execution_count": 14,
   "id": "26e112fa",
   "metadata": {
    "execution": {
     "iopub.execute_input": "2025-07-29T04:12:19.069788Z",
     "iopub.status.busy": "2025-07-29T04:12:19.069465Z",
     "iopub.status.idle": "2025-07-29T04:12:19.628739Z",
     "shell.execute_reply": "2025-07-29T04:12:19.627678Z"
    },
    "papermill": {
     "duration": 0.625733,
     "end_time": "2025-07-29T04:12:19.630754",
     "exception": false,
     "start_time": "2025-07-29T04:12:19.005021",
     "status": "completed"
    },
    "tags": []
   },
   "outputs": [
    {
     "data": {
      "image/png": "[encoded data removed]",
      "text/plain": [
       "<Figure size 1200x400 with 2 Axes>"
      ]
     },
     "metadata": {},
     "output_type": "display_data"
    }
   ],
   "source": [
    "plt.figure(figsize=(12, 4))\n",
    "\n",
    "plt.subplot(1, 2, 1)\n",
    "plt.plot(history.history['accuracy'], label='Training Accuracy')\n",
    "plt.plot(history.history['val_accuracy'], label='Validation Accuracy')\n",
    "plt.title('Training and Validation Accuracy')\n",
    "plt.xlabel('Epoch')\n",
    "plt.ylabel('Accuracy')\n",
    "plt.legend()\n",
    "\n",
    "plt.subplot(1, 2, 2)\n",
    "plt.plot(history.history['loss'], label='Training Loss')\n",
    "plt.plot(history.history['val_loss'], label='Validation Loss')\n",
    "plt.title('Training and Validation Loss')\n",
    "plt.xlabel('Epoch')\n",
    "plt.ylabel('Loss')\n",
    "plt.legend()\n",
    "\n",
    "plt.tight_layout()\n",
    "plt.show()"
   ]
  },
  {
   "cell_type": "code",
   "execution_count": 15,
   "id": "7139f0ed",
   "metadata": {
    "execution": {
     "iopub.execute_input": "2025-07-29T04:12:19.762113Z",
     "iopub.status.busy": "2025-07-29T04:12:19.761562Z",
     "iopub.status.idle": "2025-07-29T04:12:19.766106Z",
     "shell.execute_reply": "2025-07-29T04:12:19.765239Z"
    },
    "papermill": {
     "duration": 0.070848,
     "end_time": "2025-07-29T04:12:19.767466",
     "exception": false,
     "start_time": "2025-07-29T04:12:19.696618",
     "status": "completed"
    },
    "tags": []
   },
   "outputs": [],
   "source": [
    "# Sample prediction\n",
    "sample_idx = 0  # Change this to test different images\n",
    "sample_image = x_test[sample_idx]\n",
    "\n",
    "sample_label = np.argmax(y_test[sample_idx])"
   ]
  },
  {
   "cell_type": "code",
   "execution_count": 16,
   "id": "082cd01f",
   "metadata": {
    "execution": {
     "iopub.execute_input": "2025-07-29T04:12:19.896550Z",
     "iopub.status.busy": "2025-07-29T04:12:19.896161Z",
     "iopub.status.idle": "2025-07-29T04:12:20.173980Z",
     "shell.execute_reply": "2025-07-29T04:12:20.173058Z"
    },
    "papermill": {
     "duration": 0.343933,
     "end_time": "2025-07-29T04:12:20.175460",
     "exception": false,
     "start_time": "2025-07-29T04:12:19.831527",
     "status": "completed"
    },
    "tags": []
   },
   "outputs": [
    {
     "name": "stdout",
     "output_type": "stream",
     "text": [
      "\u001b[1m1/1\u001b[0m \u001b[32m━━━━━━━━━━━━━━━━━━━━\u001b[0m\u001b[37m\u001b[0m \u001b[1m0s\u001b[0m 99ms/step\n"
     ]
    },
    {
     "data": {
      "image/png": "[encoded data removed]",
      "text/plain": [
       "<Figure size 640x480 with 1 Axes>"
      ]
     },
     "metadata": {},
     "output_type": "display_data"
    }
   ],
   "source": [
    "prediction = model.predict(np.expand_dims(sample_image, 0))\n",
    "predicted_label = np.argmax(prediction)\n",
    "\n",
    "plt.imshow(sample_image.squeeze(), cmap='gray')\n",
    "plt.title(f\"Actual: {sample_label}, Predicted: {predicted_label}\")\n",
    "plt.axis('off')\n",
    "plt.show()"
   ]
  },
  {
   "cell_type": "code",
   "execution_count": null,
   "id": "b0251ef3",
   "metadata": {
    "papermill": {
     "duration": 0.064945,
     "end_time": "2025-07-29T04:12:20.305993",
     "exception": false,
     "start_time": "2025-07-29T04:12:20.241048",
     "status": "completed"
    },
    "tags": []
   },
   "outputs": [],
   "source": []
  }
 ],
 "metadata": {
  "kaggle": {
   "accelerator": "none",
   "dataSources": [],
   "dockerImageVersionId": 31089,
   "isGpuEnabled": false,
   "isInternetEnabled": true,
   "language": "python",
   "sourceType": "notebook"
  },
  "kernelspec": {
   "display_name": "Python 3",
   "language": "python",
   "name": "python3"
  },
  "language_info": {
   "codemirror_mode": {
    "name": "ipython",
    "version": 3
   },
   "file_extension": ".py",
   "mimetype": "text/x-python",
   "name": "python",
   "nbconvert_exporter": "python",
   "pygments_lexer": "ipython3",
   "version": "3.11.13"
  },
  "papermill": {
   "default_parameters": {},
   "duration": 144.618317,
   "end_time": "2025-07-29T04:12:23.205570",
   "environment_variables": {},
   "exception": null,
   "input_path": "__notebook__.ipynb",
   "output_path": "__notebook__.ipynb",
   "parameters": {},
   "start_time": "2025-07-29T04:09:58.587253",
   "version": "2.6.0"
  }
 },
 "nbformat": 4,
 "nbformat_minor": 5
}
